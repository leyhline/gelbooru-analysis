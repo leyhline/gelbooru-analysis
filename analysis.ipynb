{
 "cells": [
  {
   "cell_type": "code",
   "execution_count": 87,
   "metadata": {
    "collapsed": true
   },
   "outputs": [],
   "source": [
    "import sqlite3\n",
    "import numpy as np\n",
    "import matplotlib.pyplot as plt\n",
    "from datetime import datetime\n",
    "from functools import reduce"
   ]
  },
  {
   "cell_type": "code",
   "execution_count": 88,
   "metadata": {
    "collapsed": true
   },
   "outputs": [],
   "source": [
    "con = sqlite3.connect(\"data/gelbooru.db\")\n",
    "cur = con.cursor()\n",
    "timeformat = \"%Y-%m-%d %H:%M:%S\""
   ]
  },
  {
   "cell_type": "code",
   "execution_count": 89,
   "metadata": {
    "collapsed": false
   },
   "outputs": [],
   "source": [
    "## Create some useful views for the upcoming analysis.\n",
    "# Create view that counts the tags grouped by its name.\n",
    "cur.execute(\"CREATE TEMP VIEW tag_count AS \" +\n",
    "            \"SELECT tag.id AS id, tag.name AS name, COUNT(tags.view) AS count \" +\n",
    "            \"FROM tag JOIN tags ON tag.id = tags.tag \" +\n",
    "            \"GROUP BY tag.name HAVING tag.name <> '1girl' AND tag.name <> 'solo'\")\n",
    "con.commit()"
   ]
  },
  {
   "cell_type": "markdown",
   "metadata": {},
   "source": [
    "# General information"
   ]
  },
  {
   "cell_type": "markdown",
   "metadata": {},
   "source": [
    "Tags used for searching: solo, 1girl, -comic, -4koma, -animated, -sound, -webm, -animated gif, -asian, -photo, -3d"
   ]
  },
  {
   "cell_type": "markdown",
   "metadata": {},
   "source": [
    "## Some simple numbers"
   ]
  },
  {
   "cell_type": "code",
   "execution_count": 90,
   "metadata": {
    "collapsed": false
   },
   "outputs": [],
   "source": [
    "cur.execute(\"SELECT * FROM view ORDER BY id ASC LIMIT 1\")\n",
    "first_entry = cur.fetchone()\n",
    "cur.execute(\"SELECT * FROM view ORDER BY id DESC LIMIT 1\")\n",
    "last_entry = cur.fetchone()\n",
    "cur.execute(\"SELECT COUNT(*) FROM view\")\n",
    "total_count = cur.fetchone()[0]\n",
    "cur.execute(\"SELECT COUNT(*) FROM tag\")\n",
    "tag_count = cur.fetchone()[0]"
   ]
  },
  {
   "cell_type": "code",
   "execution_count": 91,
   "metadata": {
    "collapsed": false
   },
   "outputs": [
    {
     "name": "stdout",
     "output_type": "stream",
     "text": [
      "Id of first post: 5 (from 2007-07-16 00:20:00)\n",
      "Id of last post: 3150000 (from 2016-04-26 03:00:24)\n",
      "Total count: 1212463 (spanning 3207 days)\n",
      "Number of tags: 213432\n"
     ]
    }
   ],
   "source": [
    "print(\"Id of first post: {} (from {})\".format(first_entry[0], first_entry[1]))\n",
    "print(\"Id of last post: {} (from {})\".format(last_entry[0], last_entry[1]))\n",
    "first_post_datetime = datetime.strptime(first_entry[1], timeformat)\n",
    "last_post_datetime = datetime.strptime(last_entry[1], timeformat)\n",
    "timedelta = last_post_datetime - first_post_datetime\n",
    "print(\"Total count: {} (spanning {} days)\".format(total_count, timedelta.days))\n",
    "print(\"Number of tags: {}\".format(tag_count))"
   ]
  },
  {
   "cell_type": "markdown",
   "metadata": {},
   "source": [
    "## Distribution of posts"
   ]
  },
  {
   "cell_type": "code",
   "execution_count": 92,
   "metadata": {
    "collapsed": false
   },
   "outputs": [],
   "source": [
    "cur.execute(\"SELECT rating.name, COUNT(view) FROM rates JOIN rating ON rates.rating = rating.id GROUP BY rating\")\n",
    "dist_ratings = cur.fetchall()"
   ]
  },
  {
   "cell_type": "code",
   "execution_count": 93,
   "metadata": {
    "collapsed": false
   },
   "outputs": [
    {
     "data": {
      "image/png": "[encoded data removed]",
      "text/plain": [
       "<matplotlib.figure.Figure at 0x7fa47ad23940>"
      ]
     },
     "metadata": {},
     "output_type": "display_data"
    }
   ],
   "source": [
    "plt.pie([x[1] for x in dist_ratings], labels=[x[0] for x in dist_ratings], \n",
    "        colors=[\"cyan\", \"orange\", \"red\"], autopct='%1.1f%%')\n",
    "plt.axis('equal')\n",
    "plt.show()"
   ]
  },
  {
   "cell_type": "markdown",
   "metadata": {},
   "source": [
    "# Time series"
   ]
  },
  {
   "cell_type": "markdown",
   "metadata": {},
   "source": [
    "Watch the data for every full month since the beginning. At the moment this is from Aug 2007 to Mar 2016."
   ]
  },
  {
   "cell_type": "code",
   "execution_count": 94,
   "metadata": {
    "collapsed": false
   },
   "outputs": [],
   "source": [
    "total_months = (last_post_datetime.year - first_post_datetime.year - 1) * 12\n",
    "total_months += last_post_datetime.month + (12 - first_post_datetime.month) + 1\n",
    "first_id_of_month = np.empty(total_months, dtype=int)\n",
    "year = 0\n",
    "month = 0\n",
    "index = 0\n",
    "# Get the first id of each month.\n",
    "for row in cur.execute(\"SELECT id, posted FROM view ORDER BY id ASC\"):\n",
    "    date = datetime.strptime(row[1], timeformat)\n",
    "    if date.year > year:\n",
    "        year = date.year\n",
    "        month = 0\n",
    "    if date.month > month:\n",
    "        month = date.month\n",
    "        first_id_of_month[index] = row[0]\n",
    "        index += 1"
   ]
  },
  {
   "cell_type": "code",
   "execution_count": 95,
   "metadata": {
    "collapsed": false
   },
   "outputs": [],
   "source": [
    "# Count the number of uploads.\n",
    "id_range = list(zip(first_id_of_month[0:-1], first_id_of_month[1:]))\n",
    "count_per_month = []\n",
    "for i in range(0, total_months - 1):\n",
    "    ids = tuple((str(id) for id in id_range[i]))\n",
    "    cur.execute(\"SELECT COUNT(*) FROM view WHERE id >= ? AND id < ?\", ids)\n",
    "    count_per_month.append(cur.fetchone())"
   ]
  },
  {
   "cell_type": "code",
   "execution_count": 101,
   "metadata": {
    "collapsed": true
   },
   "outputs": [],
   "source": [
    "# Count only safe uploads (no nudes etc.)\n",
    "id_range = list(zip(first_id_of_month[0:-1], first_id_of_month[1:]))\n",
    "count_per_month_safe = []\n",
    "for i in range(0, total_months - 1):\n",
    "    ids = tuple((str(id) for id in id_range[i]))\n",
    "    cur.execute(\"SELECT COUNT(*) FROM view JOIN rates ON view.id = rates.view \" +\n",
    "                \"WHERE view.id >= ? AND view.id < ? AND rates.rating = 1\", ids)\n",
    "    count_per_month_safe.append(cur.fetchone())"
   ]
  },
  {
   "cell_type": "code",
   "execution_count": 139,
   "metadata": {
    "collapsed": false
   },
   "outputs": [
    {
     "data": {
      "image/png": "[encoded data removed]",
      "text/plain": [
       "<matplotlib.figure.Figure at 0x7fa478989eb8>"
      ]
     },
     "metadata": {},
     "output_type": "display_data"
    }
   ],
   "source": [
    "plt.figure(figsize=(8,4))\n",
    "plt.plot(count_per_month[1:-1], label=\"Total uploads\")\n",
    "plt.plot(count_per_month_safe[1:-1], label=\"Only safe uploads\", color=\"cyan\")\n",
    "plt.legend(bbox_to_anchor=(1.05, 1), loc=2, borderaxespad=0.)\n",
    "plt.xlabel(\"Month\")\n",
    "plt.ylabel(\"Uploads\")\n",
    "plt.show()"
   ]
  },
  {
   "cell_type": "markdown",
   "metadata": {
    "collapsed": true
   },
   "source": [
    "# Tag analysis"
   ]
  },
  {
   "cell_type": "markdown",
   "metadata": {},
   "source": [
    "Goal: Find appropriate tags for automatic tagging with neural network."
   ]
  },
  {
   "cell_type": "code",
   "execution_count": 97,
   "metadata": {
    "collapsed": false
   },
   "outputs": [],
   "source": [
    "cur.execute(\"SELECT tag_count.name, tag_count.count, tag_type.name \" +\n",
    "            \"FROM tag_count JOIN categorizes ON tag_count.id = categorizes.tag \" +\n",
    "            \"JOIN tag_type ON tag_type.id = categorizes.tag_type \" +\n",
    "            \"WHERE count > 10000 ORDER BY count DESC\")\n",
    "top_tags = cur.fetchall()"
   ]
  },
  {
   "cell_type": "code",
   "execution_count": 98,
   "metadata": {
    "collapsed": false
   },
   "outputs": [
    {
     "name": "stdout",
     "output_type": "stream",
     "text": [
      "TYPE                                  TAG NAME -  COUNT\n",
      "-------------------------------------------------------\n",
      "general                              long hair - 562353\n",
      "general                                breasts - 474336\n",
      "general                                  blush - 384920\n",
      "general                                highres - 367095\n",
      "general                                 female - 321347\n",
      "general                                  smile - 309188\n",
      "general                             short hair - 303731\n",
      "general                      looking at viewer - 287483\n",
      "copyright                               touhou - 267455\n",
      "general                              blue eyes - 240885\n",
      "general                             open mouth - 238594\n",
      "general                                  skirt - 225126\n",
      "general                             thighhighs - 218767\n",
      "general                            blonde hair - 211997\n",
      "general                               red eyes - 195450\n",
      "general                             brown hair - 192029\n",
      "general                          large breasts - 183983\n",
      "general                      simple background - 182881\n",
      "general                              underwear - 175434\n",
      "general                                    hat - 172276\n",
      "copyright                             original - 159673\n",
      "general                                 ribbon - 155983\n",
      "general                                panties - 154571\n",
      "general                                  navel - 153009\n",
      "general                             black hair - 149192\n",
      "general                                  dress - 147464\n",
      "general                                nipples - 147184\n",
      "general                              twintails - 142323\n",
      "general                                 gloves - 139614\n",
      "general                               cleavage - 134956\n",
      "general                       white background - 134941\n",
      "general                          hair ornament - 133344\n",
      "general                                    bow - 131967\n",
      "general                             brown eyes - 131218\n",
      "general                                sitting - 119314\n",
      "general                             green eyes - 116013\n",
      "general                                 bad id - 111259\n",
      "general                            animal ears - 110502\n",
      "general                         school uniform - 107694\n",
      "general                         bare shoulders - 105684\n",
      "general                         very long hair - 102968\n",
      "general                              blue hair - 100822\n",
      "general                                    ass -  92974\n",
      "general                                  shirt -  89891\n",
      "general                            purple eyes -  88974\n",
      "general                                jewelry -  88777\n",
      "general                                 weapon -  87582\n",
      "general                               swimsuit -  86959\n",
      "general                            hair ribbon -  83950\n",
      "general                          black legwear -  83617\n",
      "general                                   nude -  82642\n",
      "copyright                    kantai collection -  79432\n",
      "general                            purple hair -  77063\n",
      "general                                   tail -  76694\n",
      "general                                  pussy -  76364\n",
      "general                              pink hair -  73825\n",
      "general                                  wings -  72194\n",
      "general                            yellow eyes -  69793\n",
      "general                               ponytail -  69089\n",
      "general                                  boots -  68203\n",
      "general                                 flower -  67813\n",
      "general                               hair bow -  67745\n",
      "general                              absurdres -  67046\n",
      "general                               barefoot -  66461\n",
      "general                            silver hair -  65438\n",
      "general                                  lying -  64607\n",
      "general                             green hair -  63056\n",
      "general                               standing -  60765\n",
      "general                              pantyhose -  60442\n",
      "general                       detached sleeves -  60186\n",
      "general                                 bikini -  59306\n",
      "general                              full body -  58085\n",
      "general                               red hair -  57288\n",
      "general                           long sleeves -  56393\n",
      "general                               hairband -  55938\n",
      "general                                midriff -  55157\n",
      "general                                  braid -  54520\n",
      "general                             monochrome -  54373\n",
      "general                               censored -  52685\n",
      "general                           looking back -  51870\n",
      "general                       japanese clothes -  50709\n",
      "general                               serafuku -  49361\n",
      "general                                  heart -  48993\n",
      "general                                  ahoge -  48572\n",
      "general                                   feet -  48299\n",
      "general                                  shoes -  48121\n",
      "general                                glasses -  46858\n",
      "general                           elbow gloves -  46620\n",
      "general                               gradient -  46404\n",
      "general                                  bangs -  45986\n",
      "general                                 thighs -  45839\n",
      "general                    gradient background -  45384\n",
      "general                                striped -  45246\n",
      "copyright                             vocaloid -  45225\n",
      "general                           huge breasts -  45060\n",
      "general                                    sky -  45018\n",
      "general                           open clothes -  44445\n",
      "general                                   legs -  43759\n",
      "general                             collarbone -  42917\n",
      "general                                  sweat -  42710\n",
      "general                                necktie -  42276\n",
      "general                             upper body -  42172\n",
      "general                          white legwear -  41969\n",
      "general                             flat chest -  41553\n",
      "general                             uncensored -  40613\n",
      "general                                  sword -  40582\n",
      "general                            spread legs -  40462\n",
      "general                         one eye closed -  40024\n",
      "general                    translation request -  39817\n",
      "general                          erect nipples -  39711\n",
      "general                                  tears -  39100\n",
      "general                          small breasts -  38509\n",
      "general                            eyes closed -  38317\n",
      "general                               earrings -  37558\n",
      "general                               cat ears -  37377\n",
      "general                                 frills -  37227\n",
      "general                             white hair -  36739\n",
      "general                                     :d -  36695\n",
      "general                          white panties -  35750\n",
      "general                                   food -  35621\n",
      "general                            pointy ears -  35584\n",
      "general                          pleated skirt -  34324\n",
      "general                         zettai ryouiki -  33885\n",
      "general                                 tongue -  33878\n",
      "copyright                           idolmaster -  33530\n",
      "general                                   fang -  33322\n",
      "general                                  socks -  33125\n",
      "general                                 choker -  33088\n",
      "general                              pink eyes -  32844\n",
      "general                              aqua eyes -  32780\n",
      "general                                   loli -  32649\n",
      "general                                    bra -  32474\n",
      "general                                areolae -  32408\n",
      "general                                armpits -  32365\n",
      "general                                holding -  32219\n",
      "character                         hatsune miku -  32183\n",
      "general                      alternate costume -  31974\n",
      "general                                   wink -  30551\n",
      "general                                 sketch -  30210\n",
      "general                                 shorts -  30136\n",
      "general                                   belt -  30061\n",
      "general                                  water -  29784\n",
      "general                          short sleeves -  29740\n",
      "general                      fingerless gloves -  29229\n",
      "general                              pantyshot -  29187\n",
      "general                                 lowres -  29138\n",
      "general                             no panties -  29068\n",
      "general                                 no bra -  28840\n",
      "general                                game cg -  28059\n",
      "general                            from behind -  28029\n",
      "general                                on back -  27967\n",
      "general                               hairclip -  27681\n",
      "general                                    00s -  27272\n",
      "general                                   lips -  26825\n",
      "general                                    cum -  26708\n",
      "general                             open shirt -  26673\n",
      "general                                  horns -  26226\n",
      "general                               outdoors -  25762\n",
      "general                         character name -  25750\n",
      "general                          side ponytail -  25364\n",
      "general                            twin braids -  25271\n",
      "general                                  cloud -  25083\n",
      "general                              aqua hair -  24837\n",
      "general                                   star -  24811\n",
      "general                                upskirt -  24735\n",
      "general                          puffy sleeves -  24541\n",
      "general                               cat tail -  23961\n",
      "general                                  shiny -  23904\n",
      "general                           official art -  23859\n",
      "general                             black eyes -  23727\n",
      "general                             bunny ears -  23678\n",
      "general                                 jacket -  23551\n",
      "general                            hair flower -  23517\n",
      "general                             high heels -  23276\n",
      "general                               cameltoe -  22966\n",
      "general                                    bed -  22800\n",
      "general                                  scarf -  22737\n",
      "general                                  chibi -  22489\n",
      "general                                    wet -  22408\n",
      "general                                 kimono -  22361\n",
      "general                               kneeling -  22275\n",
      "general                             bottomless -  22239\n",
      "general                                uniform -  22184\n",
      "general                                   cape -  22174\n",
      "general                                arms up -  22099\n",
      "general                             tongue out -  22069\n",
      "general                                   bdsm -  21932\n",
      "general                              miniskirt -  21870\n",
      "general                                   toes -  21788\n",
      "general                           white gloves -  21786\n",
      "general                                   anus -  21594\n",
      "general                                 collar -  21544\n",
      "general                            nail polish -  21507\n",
      "general                               necklace -  21471\n",
      "general                            pussy juice -  21426\n",
      "general                            orange hair -  21385\n",
      "general                              underboob -  21155\n",
      "general                                     :o -  21035\n",
      "general                             translated -  20980\n",
      "general                                topless -  20933\n",
      "general                            cowboy shot -  20915\n",
      "general                               lingerie -  20852\n",
      "general                            parted lips -  20774\n",
      "general                                  armor -  20201\n",
      "general                               bracelet -  20174\n",
      "general                      multicolored hair -  20142\n",
      "general                                  bound -  19968\n",
      "general                                  apron -  19807\n",
      "general                              dark skin -  19653\n",
      "general                                bondage -  19537\n",
      "general                            wrist cuffs -  19466\n",
      "general                         medium breasts -  19458\n",
      "general                                    bag -  19278\n",
      "general                                   maid -  19243\n",
      "general                           magical girl -  19180\n",
      "general                               sideboob -  19171\n",
      "general                           torn clothes -  19134\n",
      "general                        personification -  19054\n",
      "general                           wide sleeves -  18774\n",
      "general                     one-piece swimsuit -  18567\n",
      "general                            see-through -  18541\n",
      "general                            dutch angle -  18496\n",
      "general                             sleeveless -  18237\n",
      "general                                    gun -  18016\n",
      "general                             pubic hair -  18016\n",
      "general                             shiny skin -  17809\n",
      "general                                 petals -  17683\n",
      "general                                   book -  17515\n",
      "general                             headphones -  17441\n",
      "general                            hand on hip -  17373\n",
      "general                              kneehighs -  17206\n",
      "general                     matching hair/eyes -  17167\n",
      "general                                  ascot -  16999\n",
      "general                                  plaid -  16819\n",
      "general                             skirt lift -  16657\n",
      "general                                 pillow -  16640\n",
      "copyright          idolmaster cinderella girls -  16472\n",
      "copyright           mahou shoujo madoka magica -  16176\n",
      "general                        striped panties -  16168\n",
      "general                                   grin -  16167\n",
      "general                        striped legwear -  15964\n",
      "general                                indoors -  15931\n",
      "general                                  fruit -  15765\n",
      "general                      traditional media -  15728\n",
      "general                               bodysuit -  15549\n",
      "general                                 wariza -  15520\n",
      "general                                   face -  15366\n",
      "general                                   vest -  15348\n",
      "general                             mouth hold -  15277\n",
      "general                                 makeup -  15259\n",
      "general                              sidelocks -  15259\n",
      "general                          black panties -  15251\n",
      "general                                   tree -  15218\n",
      "general                      hair between eyes -  15141\n",
      "artist                          artist request -  14986\n",
      "copyright                              precure -  14905\n",
      "general                             undressing -  14856\n",
      "general                             shirt lift -  14753\n",
      "general                            thigh boots -  14727\n",
      "general                                sweater -  14588\n",
      "general                            artist name -  14572\n",
      "general                                 chains -  14520\n",
      "general                                   moon -  14510\n",
      "general                           black gloves -  14414\n",
      "copyright                        fate (series) -  14414\n",
      "general                         maid headdress -  14380\n",
      "general                        school swimsuit -  14318\n",
      "general                             panty pull -  14299\n",
      "general                            orange eyes -  14101\n",
      "general                           off shoulder -  14098\n",
      "general                              wide hips -  14056\n",
      "general                                   sash -  14045\n",
      "general                                  teeth -  14009\n",
      "general                                cosplay -  13996\n",
      "general                                  curvy -  13971\n",
      "general                              thigh gap -  13903\n",
      "general                                   hood -  13834\n",
      "general                                leotard -  13729\n",
      "general                                  groin -  13723\n",
      "general                              grey hair -  13700\n",
      "general                         underwear only -  13641\n",
      "general                                   scan -  13617\n",
      "general                               umbrella -  13571\n",
      "general                      hair over one eye -  13529\n",
      "general                                  dated -  13434\n",
      "character                        hakurei reimu -  13401\n",
      "general                              bent over -  13365\n",
      "general                       arms behind back -  13314\n",
      "general                              signature -  13307\n",
      "general                                   hips -  13279\n",
      "general                                 arm up -  13156\n",
      "general                            arm support -  13154\n",
      "general                              witch hat -  13111\n",
      "general                             hair tubes -  12907\n",
      "general                                   rose -  12815\n",
      "general                                    10s -  12777\n",
      "general                         mound of venus -  12764\n",
      "general                              bare legs -  12737\n",
      "general                    alternate hairstyle -  12724\n",
      "general                               lipstick -  12486\n",
      "general                             drill hair -  12484\n",
      "general                              bat wings -  12472\n",
      "general                          garter straps -  12446\n",
      "general                                   back -  12439\n",
      "general                                 bowtie -  12422\n",
      "general                        side-tie bikini -  12390\n",
      "general                            blunt bangs -  12372\n",
      "general                                   bell -  12252\n",
      "general                            two side up -  12159\n",
      "general                               military -  12140\n",
      "general                                  soles -  12036\n",
      "general                                   mole -  12012\n",
      "general                               footwear -  11979\n",
      "general                        leaning forward -  11977\n",
      "copyright                               capcom -  11969\n",
      "character                      flandre scarlet -  11899\n",
      "general                                   text -  11853\n",
      "copyright                        final fantasy -  11840\n",
      "general                                 saliva -  11825\n",
      "general                           masturbation -  11808\n",
      "general                                glowing -  11766\n",
      "general                                  hands -  11567\n",
      "general                                on side -  11482\n",
      "general                                  pants -  11446\n",
      "general                           hair bobbles -  11445\n",
      "general                                  blood -  11435\n",
      "general                             double bun -  11408\n",
      "general                            white dress -  11290\n",
      "general                               covering -  11272\n",
      "general                           monster girl -  11228\n",
      "general                            dress shirt -  11169\n",
      "general                                      v -  11034\n",
      "general                                capelet -  11028\n",
      "general                               no pants -  11025\n",
      "copyright                                k-on! -  10985\n",
      "general                              tokin hat -  10971\n",
      "general                                   leaf -  10951\n",
      "general                          puffy nipples -  10949\n",
      "general                             hat ribbon -  10945\n",
      "general                                  tagme -  10942\n",
      "general                                 nature -  10926\n",
      "general                                  night -  10882\n",
      "general                            plaid skirt -  10810\n",
      "general                   convenient censoring -  10777\n",
      "general                   symbol-shaped pupils -  10777\n",
      "general                            cum on body -  10761\n",
      "general                             from below -  10750\n",
      "general                            embarrassed -  10748\n",
      "general                             from above -  10664\n",
      "general                              sweatdrop -  10656\n",
      "copyright                              pokemon -  10618\n",
      "general                         copyright name -  10606\n",
      "general                              head tilt -  10592\n",
      "general                                  cover -  10589\n",
      "general                           single braid -  10572\n",
      "general                               eyebrows -  10537\n",
      "general                                 katana -  10453\n",
      "general                               headgear -  10417\n",
      "general                              skirt set -  10345\n",
      "general                               fox ears -  10318\n",
      "general                               eyepatch -  10302\n",
      "general                                 tattoo -  10287\n",
      "copyright       love live! school idol project -  10279\n",
      "general                            fingernails -  10202\n",
      "general                       military uniform -  10187\n",
      "general                       side-tie panties -  10179\n",
      "general                            light smile -  10111\n",
      "general                          heterochromia -  10094\n",
      "general                           thick thighs -  10065\n",
      "copyright      the embodiment of scarlet devil -  10057\n",
      "IN TOTAL: 370 TAGS\n"
     ]
    }
   ],
   "source": [
    "print(\"{0:10} {1:>35} - {2:>6}\".format(\"TYPE\", \"TAG NAME\", \"COUNT\"))\n",
    "print(\"-------------------------------------------------------\")\n",
    "for entry in top_tags:\n",
    "    print(\"{0[2]:10} {0[0]:>35} - {0[1]:6d}\".format(entry))\n",
    "print(\"IN TOTAL:\", len(top_tags), \"TAGS\")"
   ]
  },
  {
   "cell_type": "code",
   "execution_count": 99,
   "metadata": {
    "collapsed": false
   },
   "outputs": [
    {
     "name": "stdout",
     "output_type": "stream",
     "text": [
      "Mean: 46622.5972973\n",
      "Standard derivation: 67171.8349073\n"
     ]
    }
   ],
   "source": [
    "tag_count = np.array([entry[1] for entry in top_tags])\n",
    "print(\"Mean:\", np.mean(tag_count))\n",
    "print(\"Standard derivation:\", np.std(tag_count))"
   ]
  },
  {
   "cell_type": "code",
   "execution_count": 124,
   "metadata": {
    "collapsed": false
   },
   "outputs": [
    {
     "data": {
      "image/png": "[encoded data removed]",
      "text/plain": [
       "<matplotlib.figure.Figure at 0x7fa4782d25f8>"
      ]
     },
     "metadata": {},
     "output_type": "display_data"
    }
   ],
   "source": [
    "plt.figure(figsize=(8, 4))\n",
    "plt.plot(range(1, len(tag_count) + 1), tag_count, \"bo\", markersize=1)\n",
    "plt.axhspan(np.mean(tag_count), np.mean(tag_count) + np.std(tag_count), alpha=0.3)\n",
    "plt.ylabel(\"count\")\n",
    "plt.show()"
   ]
  }
 ],
 "metadata": {
  "kernelspec": {
   "display_name": "Python 3",
   "language": "python",
   "name": "python3"
  },
  "language_info": {
   "codemirror_mode": {
    "name": "ipython",
    "version": 3
   },
   "file_extension": ".py",
   "mimetype": "text/x-python",
   "name": "python",
   "nbconvert_exporter": "python",
   "pygments_lexer": "ipython3",
   "version": "3.5.2"
  }
 },
 "nbformat": 4,
 "nbformat_minor": 1
}
