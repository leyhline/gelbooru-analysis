{
 "cells": [
  {
   "cell_type": "code",
   "execution_count": 1,
   "metadata": {
    "collapsed": true
   },
   "outputs": [],
   "source": [
    "import matplotlib.pyplot as plt\n",
    "import numpy as np\n",
    "import os\n",
    "from operator import itemgetter"
   ]
  },
  {
   "cell_type": "code",
   "execution_count": null,
   "metadata": {
    "collapsed": false
   },
   "outputs": [],
   "source": [
    "folders = (\"data/cuts/swim_cut\", \"data/cuts/nude_cut\", \"data/cuts/scho_cut\", \"data/cuts/dres_cut\")\n",
    "walks = [os.walk(folder) for folder in folders]\n",
    "files = [list(walk)[0][2] for walk in walks]"
   ]
  },
  {
   "cell_type": "code",
   "execution_count": null,
   "metadata": {
    "collapsed": false
   },
   "outputs": [],
   "source": [
    "sizes = []\n",
    "for i in range(len(folders)):\n",
    "    sizes.append([os.path.getsize(folders[i] + \"/\" + file) for file in files[i]])\n",
    "fileandsize = []\n",
    "for i in range(len(folders)):\n",
    "    fileandsize.append(list(zip(files[i], sizes[i])))\n",
    "sizes = [sorted(size) for size in sizes]"
   ]
  },
  {
   "cell_type": "code",
   "execution_count": null,
   "metadata": {
    "collapsed": false
   },
   "outputs": [],
   "source": [
    "f, plots = plt.subplots(1, len(folders), sharey=True)\n",
    "for i in range(len(folders)):\n",
    "    size = sizes[i]\n",
    "    cut = len(size) // 50\n",
    "    size = size[cut:-cut]\n",
    "    plots[i].plot(size)\n",
    "    plots[i].get_xaxis().set_visible(False)\n",
    "    plots[i].set_title(len(size))\n",
    "    print(size[0], size[-1])\n",
    "f.set_size_inches(10, 3)\n",
    "plt.show()"
   ]
  },
  {
   "cell_type": "markdown",
   "metadata": {},
   "source": [
    "### Result: \n",
    "\n",
    "Remove the *approximately* 2% largest and the 2% smallest files from the dataset. Goal is to have three categories where each one holds exactly 75.000 images."
   ]
  },
  {
   "cell_type": "code",
   "execution_count": null,
   "metadata": {
    "collapsed": false
   },
   "outputs": [],
   "source": [
    "fileandsize = [sorted(tup,key=itemgetter(1)) for tup in fileandsize]"
   ]
  },
  {
   "cell_type": "code",
   "execution_count": null,
   "metadata": {
    "collapsed": false
   },
   "outputs": [],
   "source": [
    "#for i in range(3):\n",
    "#    cfiles = fileandsize[i]\n",
    "#    l = len(cfiles)\n",
    "#    cut = (l - 75000) // 2\n",
    "#    ccfiles = cfiles[cut:-cut]\n",
    "#    if len(ccfiles) == 75001:\n",
    "#        ccfiles = ccfiles[1:]\n",
    "#    assert len(ccfiles) == 75000\n",
    "#    filenames, filesizes = zip(*ccfiles)\n",
    "#    with open(folders[i] + \"/\" + \"cut.txt\", \"w\") as fd:\n",
    "#        for filename in filenames:\n",
    "#            fd.write(filename + \"\\n\")"
   ]
  }
 ],
 "metadata": {
  "kernelspec": {
   "display_name": "Python 3",
   "language": "python",
   "name": "python3"
  },
  "language_info": {
   "codemirror_mode": {
    "name": "ipython",
    "version": 3
   },
   "file_extension": ".py",
   "mimetype": "text/x-python",
   "name": "python",
   "nbconvert_exporter": "python",
   "pygments_lexer": "ipython3",
   "version": "3.5.2"
  }
 },
 "nbformat": 4,
 "nbformat_minor": 2
}
